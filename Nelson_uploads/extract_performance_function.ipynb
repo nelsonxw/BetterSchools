{
 "cells": [
  {
   "cell_type": "code",
   "execution_count": 7,
   "metadata": {
    "collapsed": true
   },
   "outputs": [],
   "source": [
    "# create a function 'contain' to do partial string search (case insensitive) which is used in filtering data fields\n",
    "def contain(string,target):\n",
    "    return string.lower() in target.lower()\n",
    "\n",
    "# create the function to extract campus performance\n",
    "def extract_performance(yr):\n",
    "    # import dependencies\n",
    "    import pandas as pd\n",
    "    import numpy as np\n",
    "    \n",
    "    # convert yr to string\n",
    "    year = str(yr)\n",
    "    \n",
    "    # read raw data file as dataframe \n",
    "    df_campus = pd.read_csv('CAMPSTAAR2_year%s.dat' %year)\n",
    "    \n",
    "    # do initial data cleansing by replacing '.' or '-1' (masked data) with NaN\n",
    "    df_campus.replace('-1',np.nan,inplace=True)\n",
    "    df_campus.replace('.',np.nan,inplace=True)\n",
    "    \n",
    "    # read 3 indiviudal header mapping tables and combine them into one mapping table\n",
    "    df_header1 = pd.read_csv('header_mapping_1_%s.csv' %year)\n",
    "    df_header2 = pd.read_csv('header_mapping_2_%s.csv' %year)\n",
    "    df_header3 = pd.read_csv('header_mapping_3_%s.csv' %year)\n",
    "    df_header = pd.concat([df_header1,df_header2,df_header3],ignore_index=True)\n",
    "    \n",
    "    # create a dictionary for the column header mapping table, and use it to rename the column headers\n",
    "    header_dict = {}\n",
    "    for i in range(len(df_header)):\n",
    "        header_dict[df_header.loc[i,'NAME']] = df_header.loc[i,'LABEL']    \n",
    "    df_campus = df_campus.rename(columns = header_dict)\n",
    "    \n",
    "    # use melt function to transform dataset from wide table to long table so that it will be easier to set filter on the fields\n",
    "    df_campus = df_campus.melt(id_vars='CAMPUS', var_name='Category', value_name='Value')\n",
    "    \n",
    "    # select data for the year requested\n",
    "    df_campus = df_campus[df_campus['Category'].apply(lambda x: contain(year,x))]\n",
    "    \n",
    "    # get the total student count by campus and remove NaN\n",
    "    df_student_count = df_campus[df_campus['Category'].apply(\n",
    "        lambda x: contain('All Students All Tests Performance Denominator',x))].dropna()\n",
    "    \n",
    "    # get the student count for those passing the exam by campus and remove NaN\n",
    "    df_pass_count = df_campus[df_campus['Category'].apply(\n",
    "        lambda x: contain('All Students All Tests Numerator',x))].dropna()\n",
    "    \n",
    "    # get the student pass rate by campus and remove NaN\n",
    "    df_pass_rate = df_campus[df_campus['Category'].apply(\n",
    "        lambda x: contain('All Students All Tests Rate',x))].dropna()\n",
    "    \n",
    "    # merge dataframes to include all data elements\n",
    "    df_performance = df_student_count.merge(df_pass_count,on='CAMPUS',how='outer').merge(df_pass_rate,on='CAMPUS',how='inner')\n",
    "    \n",
    "    # select columns and rename column headers, add a column for the school year requested\n",
    "    df_performance = df_performance[['CAMPUS','Value_x','Value_y','Value']].rename(\n",
    "        columns = {'CAMPUS':'campus_id','Value_x':'student_count','Value_y':'pass_count','Value':'pct_pass'})\n",
    "    df_performance['year'] = year\n",
    "    \n",
    "    return df_performance"
   ]
  }
 ],
 "metadata": {
  "kernelspec": {
   "display_name": "Python 3",
   "language": "python",
   "name": "python3"
  },
  "language_info": {
   "codemirror_mode": {
    "name": "ipython",
    "version": 3
   },
   "file_extension": ".py",
   "mimetype": "text/x-python",
   "name": "python",
   "nbconvert_exporter": "python",
   "pygments_lexer": "ipython3",
   "version": "3.6.3"
  }
 },
 "nbformat": 4,
 "nbformat_minor": 2
}
